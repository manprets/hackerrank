{
 "cells": [
  {
   "cell_type": "code",
   "execution_count": 1,
   "metadata": {
    "collapsed": true
   },
   "outputs": [],
   "source": [
    "#hackerrank contest\n",
    "#week of code 29"
   ]
  },
  {
   "cell_type": "code",
   "execution_count": 2,
   "metadata": {
    "collapsed": true
   },
   "outputs": [],
   "source": [
    "#Day of Programmer"
   ]
  },
  {
   "cell_type": "code",
   "execution_count": 3,
   "metadata": {
    "collapsed": true
   },
   "outputs": [],
   "source": [
    "# 256th day of year\n",
    "# 1700-1917: julian calendar\n",
    "# 1919: gregorian calendar\n",
    "# 1918: transition year: next day after Jan 31st was 14th Feb\n",
    "# 32nd day in 1918 was 14th Feb\n",
    "# in julian leap year, year is divisible by 4\n",
    "# in gregorian leap year, year is either divisible by 400 or (divisible by 4, but not by 100)\n",
    "#\n",
    "# input:year\n",
    "# output:dd.mm.yyyy of 256th day"
   ]
  },
  {
   "cell_type": "code",
   "execution_count": 25,
   "metadata": {
    "collapsed": false
   },
   "outputs": [],
   "source": [
    "def is_leap(year):\n",
    "    if year<=1917:\n",
    "        if year%4==0:\n",
    "            ryear=1\n",
    "        else:\n",
    "            ryear=0\n",
    "    else:\n",
    "        if year%400==0 or (year%4==0 and year%100!=0):\n",
    "            ryear=1\n",
    "        else:\n",
    "            ryear=0\n",
    "\n",
    "    return ryear    "
   ]
  },
  {
   "cell_type": "code",
   "execution_count": 29,
   "metadata": {
    "collapsed": false
   },
   "outputs": [
    {
     "data": {
      "text/plain": [
       "0"
      ]
     },
     "execution_count": 29,
     "metadata": {},
     "output_type": "execute_result"
    }
   ],
   "source": [
    "is_leap(2017)"
   ]
  },
  {
   "cell_type": "code",
   "execution_count": 35,
   "metadata": {
    "collapsed": false
   },
   "outputs": [
    {
     "name": "stdout",
     "output_type": "stream",
     "text": [
      "2016\n",
      "12.09.2016\n"
     ]
    }
   ],
   "source": [
    "import sys\n",
    "from datetime import timedelta\n",
    "from datetime import date \n",
    "\n",
    "y = int(input().strip())\n",
    "# your code goes here\n",
    "\n",
    "if y!=1918:\n",
    "    d=date(y, 1, 1)\n",
    "    d=d+timedelta(days=255)\n",
    "    print(d.strftime(\"%d.%m.%Y\"))\n",
    "else:\n",
    "    d=date(y, 1, 1)\n",
    "    d=d+timedelta(days=241)\n",
    "    print(d.strftime(\"%d.%m.%Y\"))\n",
    "    "
   ]
  },
  {
   "cell_type": "code",
   "execution_count": null,
   "metadata": {
    "collapsed": true
   },
   "outputs": [],
   "source": []
  },
  {
   "cell_type": "code",
   "execution_count": 6,
   "metadata": {
    "collapsed": false
   },
   "outputs": [],
   "source": [
    "from datetime import timedelta\n",
    "from datetime import date"
   ]
  },
  {
   "cell_type": "code",
   "execution_count": 19,
   "metadata": {
    "collapsed": false
   },
   "outputs": [
    {
     "data": {
      "text/plain": [
       "datetime.date(2017, 9, 13)"
      ]
     },
     "execution_count": 19,
     "metadata": {},
     "output_type": "execute_result"
    }
   ],
   "source": [
    "days_255 = timedelta(days=255)\n",
    "d=date(2017, 1, 1)\n",
    "d+days_255"
   ]
  },
  {
   "cell_type": "code",
   "execution_count": 20,
   "metadata": {
    "collapsed": false
   },
   "outputs": [
    {
     "data": {
      "text/plain": [
       "datetime.date(2016, 9, 12)"
      ]
     },
     "execution_count": 20,
     "metadata": {},
     "output_type": "execute_result"
    }
   ],
   "source": [
    "#days_255 = timedelta(days=255)\n",
    "d=date(2016, 1, 1)\n",
    "d+days_255"
   ]
  },
  {
   "cell_type": "code",
   "execution_count": 21,
   "metadata": {
    "collapsed": false
   },
   "outputs": [
    {
     "data": {
      "text/plain": [
       "datetime.date(1918, 2, 1)"
      ]
     },
     "execution_count": 21,
     "metadata": {},
     "output_type": "execute_result"
    }
   ],
   "source": [
    "days_31 = timedelta(days=31)\n",
    "d=date(1918, 1, 1)\n",
    "d+days_31"
   ]
  },
  {
   "cell_type": "code",
   "execution_count": 23,
   "metadata": {
    "collapsed": false
   },
   "outputs": [
    {
     "data": {
      "text/plain": [
       "datetime.date(1918, 8, 30)"
      ]
     },
     "execution_count": 23,
     "metadata": {},
     "output_type": "execute_result"
    }
   ],
   "source": [
    "days_241 = timedelta(days=241)\n",
    "d=date(1918, 1, 1)\n",
    "d+days_241"
   ]
  },
  {
   "cell_type": "code",
   "execution_count": null,
   "metadata": {
    "collapsed": true
   },
   "outputs": [],
   "source": []
  }
 ],
 "metadata": {
  "kernelspec": {
   "display_name": "Python 3",
   "language": "python",
   "name": "python3"
  },
  "language_info": {
   "codemirror_mode": {
    "name": "ipython",
    "version": 3
   },
   "file_extension": ".py",
   "mimetype": "text/x-python",
   "name": "python",
   "nbconvert_exporter": "python",
   "pygments_lexer": "ipython3",
   "version": "3.6.0"
  }
 },
 "nbformat": 4,
 "nbformat_minor": 2
}
